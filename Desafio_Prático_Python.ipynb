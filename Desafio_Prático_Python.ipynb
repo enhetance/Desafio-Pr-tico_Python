{
  "nbformat": 4,
  "nbformat_minor": 0,
  "metadata": {
    "colab": {
      "provenance": [],
      "authorship_tag": "ABX9TyOQ3OXx/rzcu0pj0vN63RrB",
      "include_colab_link": true
    },
    "kernelspec": {
      "name": "python3",
      "display_name": "Python 3"
    },
    "language_info": {
      "name": "python"
    }
  },
  "cells": [
    {
      "cell_type": "markdown",
      "metadata": {
        "id": "view-in-github",
        "colab_type": "text"
      },
      "source": [
        "<a href=\"https://colab.research.google.com/github/enhetance/Desafio-Pr-tico_Python/blob/main/Desafio_Pr%C3%A1tico_Python.ipynb\" target=\"_parent\"><img src=\"https://colab.research.google.com/assets/colab-badge.svg\" alt=\"Open In Colab\"/></a>"
      ]
    },
    {
      "cell_type": "markdown",
      "source": [
        "# Desafio - Exercício 1\n",
        "\n",
        "Você possui algumas variáveis em Python que descrevem alguns dos seus atributos. Com base nessas variáveis, gere uma apresentação curta de si mesmo:"
      ],
      "metadata": {
        "id": "ia9hSRCCMtxv"
      }
    },
    {
      "cell_type": "code",
      "execution_count": 1,
      "metadata": {
        "colab": {
          "base_uri": "https://localhost:8080/"
        },
        "id": "ui-jdqz6MqPU",
        "outputId": "db201cf6-c62f-4135-bafb-23cb70b1f93e"
      },
      "outputs": [
        {
          "output_type": "stream",
          "name": "stdout",
          "text": [
            "Olá! Meu nome é Rafael, tenho 19 anos, moro em SBC.\n"
          ]
        }
      ],
      "source": [
        "nome = \"Rafael\"\n",
        "idade = 19\n",
        "cidade = \"SBC\"\n",
        "print(f\"Olá! Meu nome é {nome}, tenho {idade} anos, moro em {cidade}.\")"
      ]
    },
    {
      "cell_type": "markdown",
      "source": [
        "#Desafio - Exercício 2\n",
        "\n",
        "Dada uma lista de números em Python, Calcule a média dos valores dessa lista:"
      ],
      "metadata": {
        "id": "en6no-PdNaz1"
      }
    },
    {
      "cell_type": "code",
      "source": [
        "numeros = [10, 20, 30, 40, 50]\n",
        "\n",
        "#soma dos valores da lista\n",
        "soma = numeros[0] + numeros[1] + numeros[2] + numeros[3] + numeros[4]\n",
        "\n",
        "# Contando manualmente\n",
        "contador = 5\n",
        "\n",
        "# Calcula a média\n",
        "media = soma / contador\n",
        "\n",
        "print(f\"A média é: {media}\")"
      ],
      "metadata": {
        "colab": {
          "base_uri": "https://localhost:8080/"
        },
        "id": "WZT465LVNvEt",
        "outputId": "3491812b-2168-429a-b1b1-0d1c5c48b2e1"
      },
      "execution_count": 3,
      "outputs": [
        {
          "output_type": "stream",
          "name": "stdout",
          "text": [
            "A média é: 30.0\n"
          ]
        }
      ]
    },
    {
      "cell_type": "markdown",
      "source": [
        "#Desafio - Exercício 3\n",
        "\n",
        "Você possui duas listas de Python. Cada lista representa os gastos do mês de dois amigos, João e Pedro. Cada valor na lista representa o gasto em uma das semanas do mês. Seu objetivo é encontrar quem gastou mais dinheiro ao longo do mês, João ou Pedro. Para isso, crie um código em Python que responda a essa pergunta."
      ],
      "metadata": {
        "id": "9QHO5IUaOJkc"
      }
    },
    {
      "cell_type": "code",
      "source": [
        "gastos_Joao = [200, 30, 40, 50]\n",
        "gastos_Pedro = [50, 175, 70, 30]\n",
        "\n",
        "# Calculando o total de gastos para João\n",
        "total_Joao = 0\n",
        "for gasto in gastos_Joao:\n",
        "    total_Joao += gasto\n",
        "\n",
        "# Calculando o total de gastos para Pedro\n",
        "total_Pedro = 0\n",
        "for gasto in gastos_Pedro:\n",
        "    total_Pedro += gasto\n",
        "\n",
        "# Comparando os totais\n",
        "print(f\"Total gasto por João: R${total_Joao}\")\n",
        "print(f\"Total gasto por Pedro: R${total_Pedro}\")\n",
        "\n",
        "if total_Joao > total_Pedro:\n",
        "    print(\"João gastou mais dinheiro ao longo do mês.\")\n",
        "elif total_Pedro > total_Joao:\n",
        "    print(\"Pedro gastou mais dinheiro ao longo do mês.\")\n",
        "else:\n",
        "    print(\"João e Pedro gastaram a mesma quantia ao longo do mês.\")"
      ],
      "metadata": {
        "colab": {
          "base_uri": "https://localhost:8080/"
        },
        "id": "8w0OZU8gObkc",
        "outputId": "a30f0a4b-6ce5-4f47-e06d-c0a3a7dd69e7"
      },
      "execution_count": 4,
      "outputs": [
        {
          "output_type": "stream",
          "name": "stdout",
          "text": [
            "Total gasto por João: R$320\n",
            "Total gasto por Pedro: R$325\n",
            "Pedro gastou mais dinheiro ao longo do mês.\n"
          ]
        }
      ]
    }
  ]
}